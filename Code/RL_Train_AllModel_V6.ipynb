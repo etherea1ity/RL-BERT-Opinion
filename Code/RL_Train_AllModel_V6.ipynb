{
 "cells": [
  {
   "cell_type": "markdown",
   "metadata": {},
   "source": [
    "# Version 6"
   ]
  },
  {
   "cell_type": "code",
   "execution_count": 1,
   "metadata": {},
   "outputs": [],
   "source": [
    "# Jerry Jiang\n",
    "\n",
    "# V6 reward: Confidence-driven reward with entropy penalty\n",
    "# Reward = (1.0 + 0.1 × confidence) if correct, else 0\n",
    "# Then subtract 0.05 × entropy (applied to all samples)"
   ]
  },
  {
   "cell_type": "code",
   "execution_count": 2,
   "metadata": {},
   "outputs": [
    {
     "name": "stderr",
     "output_type": "stream",
     "text": [
      "C:\\Users\\jsj31\\AppData\\Roaming\\Python\\Python311\\site-packages\\tqdm\\auto.py:21: TqdmWarning: IProgress not found. Please update jupyter and ipywidgets. See https://ipywidgets.readthedocs.io/en/stable/user_install.html\n",
      "  from .autonotebook import tqdm as notebook_tqdm\n"
     ]
    }
   ],
   "source": [
    "import torch\n",
    "import torch.nn as nn\n",
    "import torch.optim as optim\n",
    "from torch.utils.data import Dataset, DataLoader\n",
    "from transformers import BertTokenizer, BertModel\n",
    "import torch.nn.functional as F\n",
    "import pandas as pd\n",
    "from tqdm import tqdm\n",
    "import numpy as np\n",
    "import json\n",
    "import os"
   ]
  },
  {
   "cell_type": "code",
   "execution_count": 3,
   "metadata": {},
   "outputs": [],
   "source": [
    "# Global Variable\n",
    "Version = \"V6\"\n",
    "bert_model_path = \"../Model/sentiment_bert\"\n",
    "train_data_path = \"../Dataset/train_preprocessed.csv\"\n",
    "supervised_model_path = \"../Model/policy_net_supervised.pt\"\n",
    "save_model_path = f\"../Model/{Version}\"\n",
    "logs_path = f\"../Logs/{Version}\""
   ]
  },
  {
   "cell_type": "code",
   "execution_count": 4,
   "metadata": {},
   "outputs": [
    {
     "name": "stdout",
     "output_type": "stream",
     "text": [
      "Using BERT model from: ../Model/sentiment_bert\n"
     ]
    },
    {
     "data": {
      "text/plain": [
       "BertModel(\n",
       "  (embeddings): BertEmbeddings(\n",
       "    (word_embeddings): Embedding(30522, 768, padding_idx=0)\n",
       "    (position_embeddings): Embedding(512, 768)\n",
       "    (token_type_embeddings): Embedding(2, 768)\n",
       "    (LayerNorm): LayerNorm((768,), eps=1e-12, elementwise_affine=True)\n",
       "    (dropout): Dropout(p=0.3, inplace=False)\n",
       "  )\n",
       "  (encoder): BertEncoder(\n",
       "    (layer): ModuleList(\n",
       "      (0-11): 12 x BertLayer(\n",
       "        (attention): BertAttention(\n",
       "          (self): BertSdpaSelfAttention(\n",
       "            (query): Linear(in_features=768, out_features=768, bias=True)\n",
       "            (key): Linear(in_features=768, out_features=768, bias=True)\n",
       "            (value): Linear(in_features=768, out_features=768, bias=True)\n",
       "            (dropout): Dropout(p=0.3, inplace=False)\n",
       "          )\n",
       "          (output): BertSelfOutput(\n",
       "            (dense): Linear(in_features=768, out_features=768, bias=True)\n",
       "            (LayerNorm): LayerNorm((768,), eps=1e-12, elementwise_affine=True)\n",
       "            (dropout): Dropout(p=0.3, inplace=False)\n",
       "          )\n",
       "        )\n",
       "        (intermediate): BertIntermediate(\n",
       "          (dense): Linear(in_features=768, out_features=3072, bias=True)\n",
       "          (intermediate_act_fn): GELUActivation()\n",
       "        )\n",
       "        (output): BertOutput(\n",
       "          (dense): Linear(in_features=3072, out_features=768, bias=True)\n",
       "          (LayerNorm): LayerNorm((768,), eps=1e-12, elementwise_affine=True)\n",
       "          (dropout): Dropout(p=0.3, inplace=False)\n",
       "        )\n",
       "      )\n",
       "    )\n",
       "  )\n",
       "  (pooler): BertPooler(\n",
       "    (dense): Linear(in_features=768, out_features=768, bias=True)\n",
       "    (activation): Tanh()\n",
       "  )\n",
       ")"
      ]
     },
     "execution_count": 4,
     "metadata": {},
     "output_type": "execute_result"
    }
   ],
   "source": [
    "from transformers import BertTokenizer, BertModel, BertConfig\n",
    "\n",
    "device = torch.device(\"cuda\" if torch.cuda.is_available() else \"cpu\")\n",
    "\n",
    "print(f\"Using BERT model from: {bert_model_path}\")\n",
    "\n",
    "tokenizer = BertTokenizer.from_pretrained(str(bert_model_path), local_files_only=True)\n",
    "config = BertConfig.from_pretrained(str(bert_model_path), output_hidden_states=True, local_files_only=True)\n",
    "bert = BertModel.from_pretrained(str(bert_model_path), config=config, local_files_only=True).to(device)\n",
    "bert.eval()\n"
   ]
  },
  {
   "cell_type": "code",
   "execution_count": 5,
   "metadata": {},
   "outputs": [],
   "source": [
    "train_data = pd.read_csv(train_data_path)\n",
    "texts = train_data[\"Phrase\"].astype(str).tolist()\n",
    "labels = train_data[\"Sentiment\"].tolist()\n",
    "\n",
    "encodings = tokenizer(\n",
    "    texts,\n",
    "    truncation=True,\n",
    "    padding=True,\n",
    "    max_length=128,\n",
    "    return_tensors=\"pt\"\n",
    ")"
   ]
  },
  {
   "cell_type": "code",
   "execution_count": 6,
   "metadata": {},
   "outputs": [],
   "source": [
    "class SentimentDataset(Dataset):\n",
    "    def __init__(self, encodings, labels):\n",
    "        self.encodings = encodings\n",
    "        self.labels = labels\n",
    "\n",
    "    def __len__(self):\n",
    "        return len(self.labels)\n",
    "\n",
    "    def __getitem__(self, idx):\n",
    "        item = {key: val[idx] for key, val in self.encodings.items()}\n",
    "        item[\"labels\"] = torch.tensor(self.labels[idx], dtype=torch.long)\n",
    "        return item\n",
    "\n",
    "train_dataset = SentimentDataset(encodings, labels)\n",
    "train_loader = DataLoader(train_dataset, batch_size=16, shuffle=True)"
   ]
  },
  {
   "cell_type": "code",
   "execution_count": 7,
   "metadata": {},
   "outputs": [],
   "source": [
    "# Policy (Actor) network\n",
    "class PolicyNetwork(nn.Module):\n",
    "    def __init__(self, input_dim=768, hidden_dim=128, output_dim=5):\n",
    "        super(PolicyNetwork, self).__init__()\n",
    "        self.fc1 = nn.Linear(input_dim, hidden_dim)\n",
    "        self.fc2 = nn.Linear(hidden_dim, output_dim)\n",
    "\n",
    "    def forward(self, x):\n",
    "        x = F.relu(self.fc1(x))\n",
    "        return self.fc2(x)  # logits\n",
    "\n",
    "# Value (Critic) network\n",
    "class ValueNetwork(nn.Module):\n",
    "    def __init__(self, input_dim=768, hidden_dim=128):\n",
    "        super(ValueNetwork, self).__init__()\n",
    "        self.fc1 = nn.Linear(input_dim, hidden_dim)\n",
    "        self.fc2 = nn.Linear(hidden_dim, 1)\n",
    "\n",
    "    def forward(self, x):\n",
    "        x = F.relu(self.fc1(x))\n",
    "        return self.fc2(x).squeeze()"
   ]
  },
  {
   "cell_type": "code",
   "execution_count": 8,
   "metadata": {},
   "outputs": [
    {
     "name": "stderr",
     "output_type": "stream",
     "text": [
      "C:\\Users\\jsj31\\AppData\\Local\\Temp\\ipykernel_14740\\3558846925.py:3: FutureWarning: You are using `torch.load` with `weights_only=False` (the current default value), which uses the default pickle module implicitly. It is possible to construct malicious pickle data which will execute arbitrary code during unpickling (See https://github.com/pytorch/pytorch/blob/main/SECURITY.md#untrusted-models for more details). In a future release, the default value for `weights_only` will be flipped to `True`. This limits the functions that could be executed during unpickling. Arbitrary objects will no longer be allowed to be loaded via this mode unless they are explicitly allowlisted by the user via `torch.serialization.add_safe_globals`. We recommend you start setting `weights_only=True` for any use case where you don't have full control of the loaded file. Please open an issue on GitHub for any issues related to this experimental feature.\n",
      "  policy_net.load_state_dict(torch.load(supervised_model_path))\n"
     ]
    },
    {
     "name": "stdout",
     "output_type": "stream",
     "text": [
      "[Before RL] Accuracy: 0.7262 | CrossEntropy Loss: 0.6818\n"
     ]
    }
   ],
   "source": [
    "# === Step 1: Initialize policy network from supervised model ===\n",
    "policy_net = PolicyNetwork().to(device)\n",
    "policy_net.load_state_dict(torch.load(supervised_model_path))\n",
    "policy_net.train()\n",
    "\n",
    "# === Step 2: Evaluate initial accuracy and loss before RL training ===\n",
    "from sklearn.metrics import accuracy_score\n",
    "\n",
    "policy_net.eval()\n",
    "\n",
    "all_preds = []\n",
    "all_labels = []\n",
    "total_loss = 0\n",
    "\n",
    "with torch.no_grad():\n",
    "    for batch in train_loader:\n",
    "        input_ids = batch[\"input_ids\"].to(device)\n",
    "        attention_mask = batch[\"attention_mask\"].to(device)\n",
    "        labels = batch[\"labels\"].to(device)\n",
    "\n",
    "        outputs = bert(input_ids=input_ids, attention_mask=attention_mask)\n",
    "        cls_embeddings = outputs.last_hidden_state[:, 0, :]\n",
    "\n",
    "        logits = policy_net(cls_embeddings)\n",
    "        loss = F.cross_entropy(logits, labels)\n",
    "        total_loss += loss.item()\n",
    "\n",
    "        preds = torch.argmax(logits, dim=1)\n",
    "        all_preds.extend(preds.cpu().numpy())\n",
    "        all_labels.extend(labels.cpu().numpy())\n",
    "\n",
    "loss_before = total_loss / len(train_loader)\n",
    "acc_before = accuracy_score(all_labels, all_preds)\n",
    "\n",
    "print(f\"[Before RL] Accuracy: {acc_before:.4f} | CrossEntropy Loss: {loss_before:.4f}\")\n",
    "\n",
    "policy_net.train()\n",
    "\n",
    "# === Step 3: Initialize value network and optimizers ===\n",
    "value_net = ValueNetwork().to(device)\n",
    "actor_optimizer = optim.Adam(policy_net.parameters(), lr=1e-5)\n",
    "critic_optimizer = optim.Adam(value_net.parameters(), lr=1e-5)\n"
   ]
  },
  {
   "cell_type": "code",
   "execution_count": 9,
   "metadata": {},
   "outputs": [],
   "source": [
    "# V6 reward: Confidence-driven reward with entropy penalty\n",
    "# Reward = (1.0 + 0.1 × confidence) if correct, else 0\n",
    "# Then subtract 0.05 × entropy (applied to all samples)\n",
    "\n",
    "def compute_reward(preds, labels):\n",
    "    probs = torch.softmax(preds, dim=1)\n",
    "    pred_labels = torch.argmax(probs, dim=1)\n",
    "    correct = (pred_labels == labels).float()\n",
    "\n",
    "    confidence = probs[range(len(labels)), pred_labels]\n",
    "    entropy = -torch.sum(probs * torch.log(probs + 1e-8), dim=1)\n",
    "\n",
    "    reward = correct * (1.0 + 0.1 * confidence) - 0.05 * entropy\n",
    "    return reward\n",
    "\n",
    "\n",
    "def compute_entropy(logits):\n",
    "    prob = torch.softmax(logits, dim=1)\n",
    "    entropy = -torch.sum(prob * torch.log(prob + 1e-8), dim=1)\n",
    "    return entropy.mean().item()"
   ]
  },
  {
   "cell_type": "markdown",
   "metadata": {},
   "source": [
    "# 1. A2C Begin Training"
   ]
  },
  {
   "cell_type": "code",
   "execution_count": 10,
   "metadata": {},
   "outputs": [
    {
     "name": "stderr",
     "output_type": "stream",
     "text": [
      "100%|██████████| 5853/5853 [05:16<00:00, 18.47it/s]\n"
     ]
    },
    {
     "name": "stdout",
     "output_type": "stream",
     "text": [
      "[Epoch 1] Loss: 1218.0549 | Reward: 0.4116 | Accuracy: 0.4501 | Entropy: 1.2381\n"
     ]
    },
    {
     "name": "stderr",
     "output_type": "stream",
     "text": [
      "100%|██████████| 5853/5853 [05:14<00:00, 18.61it/s]\n"
     ]
    },
    {
     "name": "stdout",
     "output_type": "stream",
     "text": [
      "[Epoch 2] Loss: 336.3214 | Reward: -0.0128 | Accuracy: 0.0652 | Entropy: 1.5919\n"
     ]
    },
    {
     "name": "stderr",
     "output_type": "stream",
     "text": [
      "100%|██████████| 5853/5853 [05:13<00:00, 18.64it/s]\n"
     ]
    },
    {
     "name": "stdout",
     "output_type": "stream",
     "text": [
      "[Epoch 3] Loss: 274.0104 | Reward: -0.0279 | Accuracy: 0.0510 | Entropy: 1.6003\n"
     ]
    },
    {
     "name": "stderr",
     "output_type": "stream",
     "text": [
      "100%|██████████| 5853/5853 [05:12<00:00, 18.70it/s]\n"
     ]
    },
    {
     "name": "stdout",
     "output_type": "stream",
     "text": [
      "[Epoch 4] Loss: 242.7623 | Reward: -0.0342 | Accuracy: 0.0450 | Entropy: 1.6028\n"
     ]
    },
    {
     "name": "stderr",
     "output_type": "stream",
     "text": [
      "100%|██████████| 5853/5853 [05:13<00:00, 18.67it/s]\n"
     ]
    },
    {
     "name": "stdout",
     "output_type": "stream",
     "text": [
      "[Epoch 5] Loss: 272.3822 | Reward: -0.0276 | Accuracy: 0.0514 | Entropy: 1.6041\n"
     ]
    },
    {
     "name": "stderr",
     "output_type": "stream",
     "text": [
      "100%|██████████| 5853/5853 [05:13<00:00, 18.67it/s]\n"
     ]
    },
    {
     "name": "stdout",
     "output_type": "stream",
     "text": [
      "[Epoch 6] Loss: 269.4605 | Reward: -0.0283 | Accuracy: 0.0509 | Entropy: 1.6051\n"
     ]
    },
    {
     "name": "stderr",
     "output_type": "stream",
     "text": [
      "100%|██████████| 5853/5853 [05:14<00:00, 18.64it/s]"
     ]
    },
    {
     "name": "stdout",
     "output_type": "stream",
     "text": [
      "[Epoch 7] Loss: 215.7213 | Reward: -0.0402 | Accuracy: 0.0393 | Entropy: 1.6059\n",
      "Saved A2C policy model to: ../Model/V6\\policy_net_rl_a2c_V6.pt\n",
      "Saved A2C value model to: ../Model/V6\\value_net_rl_a2c_V6.pt\n",
      "Saved A2C logs to: ../Logs/V6\\a2c_V6.json\n",
      "[Comparison to Supervised]\n",
      "Accuracy Before: 0.7262 | After: 0.0393 | Δ: -0.6869 (-94.59%)\n"
     ]
    },
    {
     "name": "stderr",
     "output_type": "stream",
     "text": [
      "\n"
     ]
    }
   ],
   "source": [
    "epochs = 7\n",
    "train_logs = {\n",
    "    \"loss\": [],\n",
    "    \"reward\": [],\n",
    "    \"accuracy\": [],\n",
    "    \"entropy\": []\n",
    "}\n",
    "\n",
    "for epoch in range(epochs):\n",
    "    total_loss = 0\n",
    "    total_reward = 0\n",
    "    total_entropy = 0\n",
    "    correct = 0\n",
    "    total = 0\n",
    "\n",
    "    for batch in tqdm(train_loader):\n",
    "        input_ids = batch[\"input_ids\"].to(device)\n",
    "        attention_mask = batch[\"attention_mask\"].to(device)\n",
    "        labels = batch[\"labels\"].to(device)\n",
    "\n",
    "        with torch.no_grad():\n",
    "            output = bert(input_ids=input_ids, attention_mask=attention_mask)\n",
    "            cls_embeddings = output.last_hidden_state[:, 0, :]\n",
    "\n",
    "        # ---- Actor forward\n",
    "        logits = policy_net(cls_embeddings)\n",
    "        log_probs = torch.log_softmax(logits, dim=1)\n",
    "        probs = torch.exp(log_probs)\n",
    "        sampled_action = torch.multinomial(probs, num_samples=1).squeeze()\n",
    "        log_prob = log_probs[range(len(sampled_action)), sampled_action]\n",
    "\n",
    "        # ---- Critic forward\n",
    "        value = value_net(cls_embeddings)  # [B]\n",
    "        reward = compute_reward(logits, labels)\n",
    "        advantage = reward - value.detach()\n",
    "\n",
    "        # ---- Losses\n",
    "        policy_loss = - (log_prob * advantage).mean()\n",
    "        value_loss = F.mse_loss(value, reward)\n",
    "        total_batch_loss = policy_loss + value_loss\n",
    "\n",
    "        # ---- Accuracy and entropy\n",
    "        pred = torch.argmax(logits, dim=1)\n",
    "        correct += (pred == labels).sum().item()\n",
    "        total += labels.size(0)\n",
    "        entropy = compute_entropy(logits)\n",
    "\n",
    "        # ---- Backprop\n",
    "        actor_optimizer.zero_grad()\n",
    "        critic_optimizer.zero_grad()\n",
    "        total_batch_loss.backward()\n",
    "        actor_optimizer.step()\n",
    "        critic_optimizer.step()\n",
    "\n",
    "        total_loss += total_batch_loss.item()\n",
    "        total_reward += reward.mean().item()\n",
    "        total_entropy += entropy\n",
    "\n",
    "    epoch_acc = correct / total\n",
    "    epoch_loss = total_loss\n",
    "    epoch_reward = total_reward / len(train_loader)\n",
    "    epoch_entropy = total_entropy / len(train_loader)\n",
    "\n",
    "    train_logs[\"loss\"].append(epoch_loss)\n",
    "    train_logs[\"reward\"].append(epoch_reward)\n",
    "    train_logs[\"accuracy\"].append(epoch_acc)\n",
    "    train_logs[\"entropy\"].append(epoch_entropy)\n",
    "\n",
    "    print(f\"[Epoch {epoch+1}] Loss: {epoch_loss:.4f} | Reward: {epoch_reward:.4f} | Accuracy: {epoch_acc:.4f} | Entropy: {epoch_entropy:.4f}\")\n",
    "\n",
    "# Save A2C model and value\n",
    "torch.save(policy_net.state_dict(), os.path.join(save_model_path, \"policy_net_rl_a2c_\" + Version + \".pt\"))\n",
    "torch.save(value_net.state_dict(), os.path.join(save_model_path, \"value_net_rl_a2c_\" + Version + \".pt\"))\n",
    "\n",
    "with open(os.path.join(logs_path, \"a2c_\" + Version + \".json\"), \"w\") as f:\n",
    "    json.dump(train_logs, f, indent=2)\n",
    "\n",
    "print(\"Saved A2C policy model to:\", os.path.join(save_model_path, \"policy_net_rl_a2c_\" + Version + \".pt\"))\n",
    "print(\"Saved A2C value model to:\", os.path.join(save_model_path, \"value_net_rl_a2c_\" + Version + \".pt\"))\n",
    "print(\"Saved A2C logs to:\", os.path.join(logs_path, \"a2c_\" + Version + \".json\"))\n",
    "\n",
    "# compare final result\n",
    "acc_after = train_logs[\"accuracy\"][-1]\n",
    "acc_change = acc_after - acc_before\n",
    "acc_pct = (acc_change / acc_before) * 100 if acc_before > 0 else 0\n",
    "\n",
    "print(f\"[Comparison to Supervised]\")\n",
    "print(f\"Accuracy Before: {acc_before:.4f} | After: {acc_after:.4f} | Δ: {acc_change:+.4f} ({acc_pct:+.2f}%)\")"
   ]
  },
  {
   "cell_type": "markdown",
   "metadata": {},
   "source": [
    "# 2. REINFORCE Begin"
   ]
  },
  {
   "cell_type": "code",
   "execution_count": 11,
   "metadata": {},
   "outputs": [
    {
     "name": "stderr",
     "output_type": "stream",
     "text": [
      "C:\\Users\\jsj31\\AppData\\Local\\Temp\\ipykernel_14740\\4181386562.py:3: FutureWarning: You are using `torch.load` with `weights_only=False` (the current default value), which uses the default pickle module implicitly. It is possible to construct malicious pickle data which will execute arbitrary code during unpickling (See https://github.com/pytorch/pytorch/blob/main/SECURITY.md#untrusted-models for more details). In a future release, the default value for `weights_only` will be flipped to `True`. This limits the functions that could be executed during unpickling. Arbitrary objects will no longer be allowed to be loaded via this mode unless they are explicitly allowlisted by the user via `torch.serialization.add_safe_globals`. We recommend you start setting `weights_only=True` for any use case where you don't have full control of the loaded file. Please open an issue on GitHub for any issues related to this experimental feature.\n",
      "  policy_net.load_state_dict(torch.load(supervised_model_path))\n"
     ]
    }
   ],
   "source": [
    "# REINFORCE\n",
    "policy_net = PolicyNetwork().to(device)\n",
    "policy_net.load_state_dict(torch.load(supervised_model_path))\n",
    "policy_net.train()\n",
    "\n",
    "value_net = None  # REINFORCE does not use value network\n",
    "actor_optimizer = torch.optim.Adam(policy_net.parameters(), lr=2e-5)"
   ]
  },
  {
   "cell_type": "code",
   "execution_count": 12,
   "metadata": {},
   "outputs": [
    {
     "name": "stderr",
     "output_type": "stream",
     "text": [
      "REINFORCE Epoch 1: 100%|██████████| 5853/5853 [05:11<00:00, 18.81it/s]\n"
     ]
    },
    {
     "name": "stdout",
     "output_type": "stream",
     "text": [
      "[REINFORCE][Epoch 1] Loss: 2432.5046 | Reward: 0.7387 | Acc: 0.7143\n"
     ]
    },
    {
     "name": "stderr",
     "output_type": "stream",
     "text": [
      "REINFORCE Epoch 2: 100%|██████████| 5853/5853 [05:17<00:00, 18.44it/s]\n"
     ]
    },
    {
     "name": "stdout",
     "output_type": "stream",
     "text": [
      "[REINFORCE][Epoch 2] Loss: 2158.9013 | Reward: 0.7276 | Acc: 0.7005\n"
     ]
    },
    {
     "name": "stderr",
     "output_type": "stream",
     "text": [
      "REINFORCE Epoch 3: 100%|██████████| 5853/5853 [05:16<00:00, 18.49it/s]\n"
     ]
    },
    {
     "name": "stdout",
     "output_type": "stream",
     "text": [
      "[REINFORCE][Epoch 3] Loss: 1996.8835 | Reward: 0.6805 | Acc: 0.6564\n"
     ]
    },
    {
     "name": "stderr",
     "output_type": "stream",
     "text": [
      "REINFORCE Epoch 4: 100%|██████████| 5853/5853 [05:12<00:00, 18.73it/s]\n"
     ]
    },
    {
     "name": "stdout",
     "output_type": "stream",
     "text": [
      "[REINFORCE][Epoch 4] Loss: 2469.4907 | Reward: 0.7109 | Acc: 0.6904\n"
     ]
    },
    {
     "name": "stderr",
     "output_type": "stream",
     "text": [
      "REINFORCE Epoch 5: 100%|██████████| 5853/5853 [05:09<00:00, 18.90it/s]\n"
     ]
    },
    {
     "name": "stdout",
     "output_type": "stream",
     "text": [
      "[REINFORCE][Epoch 5] Loss: 2485.3098 | Reward: 0.7163 | Acc: 0.6958\n"
     ]
    },
    {
     "name": "stderr",
     "output_type": "stream",
     "text": [
      "REINFORCE Epoch 6: 100%|██████████| 5853/5853 [05:10<00:00, 18.86it/s]\n"
     ]
    },
    {
     "name": "stdout",
     "output_type": "stream",
     "text": [
      "[REINFORCE][Epoch 6] Loss: 2951.1070 | Reward: 0.7003 | Acc: 0.6888\n"
     ]
    },
    {
     "name": "stderr",
     "output_type": "stream",
     "text": [
      "REINFORCE Epoch 7: 100%|██████████| 5853/5853 [05:10<00:00, 18.83it/s]"
     ]
    },
    {
     "name": "stdout",
     "output_type": "stream",
     "text": [
      "[REINFORCE][Epoch 7] Loss: 2382.9561 | Reward: 0.6731 | Acc: 0.6574\n",
      "Saved REINFORCE policy model to: ../Model/V6\\policy_net_rl_reinforce_V6.pt\n",
      "Saved REINFORCE logs to: ../Logs/V6\\reinforce_V6.json\n",
      "[Comparison to Supervised]\n",
      "Accuracy Before: 0.7262 | After: 0.6574 | Δ: -0.0687 (-9.47%)\n"
     ]
    },
    {
     "name": "stderr",
     "output_type": "stream",
     "text": [
      "\n"
     ]
    }
   ],
   "source": [
    "train_logs = {\"loss\": [], \"reward\": [], \"accuracy\": [], \"entropy\": []}\n",
    "epochs = 7\n",
    "\n",
    "for epoch in range(epochs):\n",
    "    total_loss, total_reward, total_entropy, correct, total = 0, 0, 0, 0, 0\n",
    "\n",
    "    for batch in tqdm(train_loader, desc=f\"REINFORCE Epoch {epoch+1}\"):\n",
    "        input_ids = batch[\"input_ids\"].to(device)\n",
    "        attention_mask = batch[\"attention_mask\"].to(device)\n",
    "        labels = batch[\"labels\"].to(device)\n",
    "\n",
    "        with torch.no_grad():\n",
    "            outputs = bert(input_ids=input_ids, attention_mask=attention_mask)\n",
    "            cls_embeds = outputs.last_hidden_state[:, 0, :]\n",
    "\n",
    "        logits = policy_net(cls_embeds)\n",
    "        log_probs = torch.log_softmax(logits, dim=1)\n",
    "        probs = torch.exp(log_probs)\n",
    "        sampled_action = torch.multinomial(probs, num_samples=1).squeeze()\n",
    "        log_prob = log_probs[range(len(sampled_action)), sampled_action]\n",
    "\n",
    "        reward = compute_reward(logits, labels)\n",
    "        entropy = compute_entropy(logits)\n",
    "\n",
    "        loss = - (log_prob * reward.detach()).mean()\n",
    "        actor_optimizer.zero_grad()\n",
    "        loss.backward()\n",
    "        actor_optimizer.step()\n",
    "\n",
    "        total_loss += loss.item()\n",
    "        total_reward += reward.mean().item()\n",
    "        total_entropy += entropy\n",
    "        pred = torch.argmax(logits, dim=1)\n",
    "        correct += (pred == labels).sum().item()\n",
    "        total += labels.size(0)\n",
    "\n",
    "    acc = correct / total\n",
    "    train_logs[\"loss\"].append(total_loss)\n",
    "    train_logs[\"reward\"].append(total_reward / len(train_loader))\n",
    "    train_logs[\"accuracy\"].append(acc)\n",
    "    train_logs[\"entropy\"].append(total_entropy / len(train_loader))\n",
    "\n",
    "    print(f\"[REINFORCE][Epoch {epoch+1}] Loss: {total_loss:.4f} | Reward: {train_logs['reward'][-1]:.4f} | Acc: {acc:.4f}\")\n",
    "\n",
    "# Save REINFORCE policy only\n",
    "torch.save(policy_net.state_dict(), os.path.join(save_model_path, \"policy_net_rl_reinforce_\" + Version + \".pt\"))\n",
    "\n",
    "with open(os.path.join(logs_path, \"reinforce_\" + Version + \".json\"), \"w\") as f:\n",
    "    json.dump(train_logs, f, indent=2)\n",
    "\n",
    "print(\"Saved REINFORCE policy model to:\", os.path.join(save_model_path, \"policy_net_rl_reinforce_\" + Version + \".pt\"))\n",
    "print(\"Saved REINFORCE logs to:\", os.path.join(logs_path, \"reinforce_\" + Version + \".json\"))\n",
    "\n",
    "# compare final result\n",
    "acc_after = train_logs[\"accuracy\"][-1]\n",
    "acc_change = acc_after - acc_before\n",
    "acc_pct = (acc_change / acc_before) * 100 if acc_before > 0 else 0\n",
    "\n",
    "print(f\"[Comparison to Supervised]\")\n",
    "print(f\"Accuracy Before: {acc_before:.4f} | After: {acc_after:.4f} | Δ: {acc_change:+.4f} ({acc_pct:+.2f}%)\")"
   ]
  },
  {
   "cell_type": "markdown",
   "metadata": {},
   "source": [
    "# 3. REINFORCE_Baseline Begin"
   ]
  },
  {
   "cell_type": "code",
   "execution_count": 13,
   "metadata": {},
   "outputs": [
    {
     "name": "stderr",
     "output_type": "stream",
     "text": [
      "C:\\Users\\jsj31\\AppData\\Local\\Temp\\ipykernel_14740\\2010653356.py:3: FutureWarning: You are using `torch.load` with `weights_only=False` (the current default value), which uses the default pickle module implicitly. It is possible to construct malicious pickle data which will execute arbitrary code during unpickling (See https://github.com/pytorch/pytorch/blob/main/SECURITY.md#untrusted-models for more details). In a future release, the default value for `weights_only` will be flipped to `True`. This limits the functions that could be executed during unpickling. Arbitrary objects will no longer be allowed to be loaded via this mode unless they are explicitly allowlisted by the user via `torch.serialization.add_safe_globals`. We recommend you start setting `weights_only=True` for any use case where you don't have full control of the loaded file. Please open an issue on GitHub for any issues related to this experimental feature.\n",
      "  policy_net.load_state_dict(torch.load(supervised_model_path))\n"
     ]
    }
   ],
   "source": [
    "# REINFORCE_Baseline\n",
    "policy_net = PolicyNetwork().to(device)\n",
    "policy_net.load_state_dict(torch.load(supervised_model_path))\n",
    "policy_net.train()\n",
    "\n",
    "value_net = ValueNetwork().to(device)\n",
    "actor_optimizer = torch.optim.Adam(policy_net.parameters(), lr=2e-5)\n",
    "critic_optimizer = torch.optim.Adam(value_net.parameters(), lr=2e-5)"
   ]
  },
  {
   "cell_type": "code",
   "execution_count": 14,
   "metadata": {},
   "outputs": [
    {
     "name": "stderr",
     "output_type": "stream",
     "text": [
      "REINFORCE_Baseline Epoch 1: 100%|██████████| 5853/5853 [05:20<00:00, 18.24it/s]\n"
     ]
    },
    {
     "name": "stdout",
     "output_type": "stream",
     "text": [
      "[REINFORCE_Baseline][Epoch 1] Loss: 812.9989 | Reward: 0.2210 | Acc: 0.2782\n"
     ]
    },
    {
     "name": "stderr",
     "output_type": "stream",
     "text": [
      "REINFORCE_Baseline Epoch 2: 100%|██████████| 5853/5853 [05:20<00:00, 18.28it/s]\n"
     ]
    },
    {
     "name": "stdout",
     "output_type": "stream",
     "text": [
      "[REINFORCE_Baseline][Epoch 2] Loss: 284.4854 | Reward: -0.0250 | Acc: 0.0538\n"
     ]
    },
    {
     "name": "stderr",
     "output_type": "stream",
     "text": [
      "REINFORCE_Baseline Epoch 3: 100%|██████████| 5853/5853 [05:17<00:00, 18.43it/s]\n"
     ]
    },
    {
     "name": "stdout",
     "output_type": "stream",
     "text": [
      "[REINFORCE_Baseline][Epoch 3] Loss: 237.1368 | Reward: -0.0346 | Acc: 0.0446\n"
     ]
    },
    {
     "name": "stderr",
     "output_type": "stream",
     "text": [
      "REINFORCE_Baseline Epoch 4: 100%|██████████| 5853/5853 [05:15<00:00, 18.53it/s]\n"
     ]
    },
    {
     "name": "stdout",
     "output_type": "stream",
     "text": [
      "[REINFORCE_Baseline][Epoch 4] Loss: 335.6375 | Reward: -0.0116 | Acc: 0.0672\n"
     ]
    },
    {
     "name": "stderr",
     "output_type": "stream",
     "text": [
      "REINFORCE_Baseline Epoch 5: 100%|██████████| 5853/5853 [05:16<00:00, 18.49it/s]\n"
     ]
    },
    {
     "name": "stdout",
     "output_type": "stream",
     "text": [
      "[REINFORCE_Baseline][Epoch 5] Loss: 291.6787 | Reward: -0.0209 | Acc: 0.0582\n"
     ]
    },
    {
     "name": "stderr",
     "output_type": "stream",
     "text": [
      "REINFORCE_Baseline Epoch 6: 100%|██████████| 5853/5853 [05:16<00:00, 18.47it/s]\n"
     ]
    },
    {
     "name": "stdout",
     "output_type": "stream",
     "text": [
      "[REINFORCE_Baseline][Epoch 6] Loss: 235.9269 | Reward: -0.0336 | Acc: 0.0458\n"
     ]
    },
    {
     "name": "stderr",
     "output_type": "stream",
     "text": [
      "REINFORCE_Baseline Epoch 7: 100%|██████████| 5853/5853 [05:16<00:00, 18.50it/s]"
     ]
    },
    {
     "name": "stdout",
     "output_type": "stream",
     "text": [
      "[REINFORCE_Baseline][Epoch 7] Loss: 197.0830 | Reward: -0.0418 | Acc: 0.0377\n",
      "Saved REINFORCE_Baseline policy model to: ../Model/V6\\policy_net_rl_reinforce_baseline_V6.pt\n",
      "Saved REINFORCE_Baseline value model to: ../Model/V6\\value_net_rl_reinforce_baseline_V6.pt\n",
      "Saved REINFORCE_Baseline logs to: ../Logs/V6\\reinforce_baseline_V6.json\n",
      "[Comparison to Supervised]\n",
      "Accuracy Before: 0.7262 | After: 0.0377 | Δ: -0.6885 (-94.80%)\n"
     ]
    },
    {
     "name": "stderr",
     "output_type": "stream",
     "text": [
      "\n"
     ]
    }
   ],
   "source": [
    "train_logs = {\"loss\": [], \"reward\": [], \"accuracy\": [], \"entropy\": []}\n",
    "epochs = 7\n",
    "\n",
    "for epoch in range(epochs):\n",
    "    total_loss, total_reward, total_entropy, correct, total = 0, 0, 0, 0, 0\n",
    "\n",
    "    for batch in tqdm(train_loader, desc=f\"REINFORCE_Baseline Epoch {epoch+1}\"):\n",
    "        input_ids = batch[\"input_ids\"].to(device)\n",
    "        attention_mask = batch[\"attention_mask\"].to(device)\n",
    "        labels = batch[\"labels\"].to(device)\n",
    "\n",
    "\n",
    "        with torch.no_grad():\n",
    "            outputs = bert(input_ids=input_ids, attention_mask=attention_mask)\n",
    "            cls_embeds = outputs.last_hidden_state[:, 0, :]\n",
    "\n",
    "        logits = policy_net(cls_embeds)\n",
    "        log_probs = torch.log_softmax(logits, dim=1)\n",
    "        probs = torch.exp(log_probs)\n",
    "        sampled_action = torch.multinomial(probs, num_samples=1).squeeze()\n",
    "        log_prob = log_probs[range(len(sampled_action)), sampled_action]\n",
    "\n",
    "        reward = compute_reward(logits, labels)\n",
    "        entropy = compute_entropy(logits)\n",
    "\n",
    "        value = value_net(cls_embeds)\n",
    "        advantage = reward - value.detach()\n",
    "\n",
    "        policy_loss = - (log_prob * advantage).mean()\n",
    "        value_loss = F.mse_loss(value, reward)\n",
    "        loss = policy_loss + value_loss\n",
    "\n",
    "        actor_optimizer.zero_grad()\n",
    "        critic_optimizer.zero_grad()\n",
    "        loss.backward()\n",
    "        actor_optimizer.step()\n",
    "        critic_optimizer.step()\n",
    "\n",
    "        total_loss += loss.item()\n",
    "        total_reward += reward.mean().item()\n",
    "        total_entropy += entropy\n",
    "        pred = torch.argmax(logits, dim=1)\n",
    "        correct += (pred == labels).sum().item()\n",
    "        total += labels.size(0)\n",
    "\n",
    "    acc = correct / total\n",
    "    train_logs[\"loss\"].append(total_loss)\n",
    "    train_logs[\"reward\"].append(total_reward / len(train_loader))\n",
    "    train_logs[\"accuracy\"].append(acc)\n",
    "    train_logs[\"entropy\"].append(total_entropy / len(train_loader))\n",
    "\n",
    "    print(f\"[REINFORCE_Baseline][Epoch {epoch+1}] Loss: {total_loss:.4f} | Reward: {train_logs['reward'][-1]:.4f} | Acc: {acc:.4f}\")\n",
    "\n",
    "# Save REINFORCE_Baseline policy and value\n",
    "torch.save(policy_net.state_dict(), os.path.join(save_model_path, \"policy_net_rl_reinforce_baseline_\" + Version + \".pt\"))\n",
    "torch.save(value_net.state_dict(), os.path.join(save_model_path, \"value_net_rl_reinforce_baseline_\" + Version + \".pt\"))\n",
    "\n",
    "with open(os.path.join(logs_path, \"reinforce_baseline_\" + Version + \".json\"), \"w\") as f:\n",
    "    json.dump(train_logs, f, indent=2)\n",
    "\n",
    "print(\"Saved REINFORCE_Baseline policy model to:\", os.path.join(save_model_path, \"policy_net_rl_reinforce_baseline_\" + Version + \".pt\"))\n",
    "print(\"Saved REINFORCE_Baseline value model to:\", os.path.join(save_model_path, \"value_net_rl_reinforce_baseline_\" + Version + \".pt\"))\n",
    "print(\"Saved REINFORCE_Baseline logs to:\", os.path.join(logs_path, \"reinforce_baseline_\" + Version + \".json\"))\n",
    "\n",
    "# compare final result\n",
    "acc_after = train_logs[\"accuracy\"][-1]\n",
    "acc_change = acc_after - acc_before\n",
    "acc_pct = (acc_change / acc_before) * 100 if acc_before > 0 else 0\n",
    "\n",
    "print(f\"[Comparison to Supervised]\")\n",
    "print(f\"Accuracy Before: {acc_before:.4f} | After: {acc_after:.4f} | Δ: {acc_change:+.4f} ({acc_pct:+.2f}%)\")"
   ]
  },
  {
   "cell_type": "markdown",
   "metadata": {},
   "source": [
    "# 4. SCST Begin"
   ]
  },
  {
   "cell_type": "code",
   "execution_count": 15,
   "metadata": {},
   "outputs": [
    {
     "name": "stderr",
     "output_type": "stream",
     "text": [
      "C:\\Users\\jsj31\\AppData\\Local\\Temp\\ipykernel_14740\\475260602.py:3: FutureWarning: You are using `torch.load` with `weights_only=False` (the current default value), which uses the default pickle module implicitly. It is possible to construct malicious pickle data which will execute arbitrary code during unpickling (See https://github.com/pytorch/pytorch/blob/main/SECURITY.md#untrusted-models for more details). In a future release, the default value for `weights_only` will be flipped to `True`. This limits the functions that could be executed during unpickling. Arbitrary objects will no longer be allowed to be loaded via this mode unless they are explicitly allowlisted by the user via `torch.serialization.add_safe_globals`. We recommend you start setting `weights_only=True` for any use case where you don't have full control of the loaded file. Please open an issue on GitHub for any issues related to this experimental feature.\n",
      "  policy_net.load_state_dict(torch.load(supervised_model_path))\n"
     ]
    }
   ],
   "source": [
    "# SCST\n",
    "policy_net = PolicyNetwork().to(device)\n",
    "policy_net.load_state_dict(torch.load(supervised_model_path))\n",
    "policy_net.train()\n",
    "\n",
    "value_net = ValueNetwork().to(device)\n",
    "actor_optimizer = torch.optim.Adam(policy_net.parameters(), lr=2e-5)\n",
    "critic_optimizer = torch.optim.Adam(value_net.parameters(), lr=2e-5)"
   ]
  },
  {
   "cell_type": "code",
   "execution_count": 16,
   "metadata": {},
   "outputs": [
    {
     "name": "stderr",
     "output_type": "stream",
     "text": [
      "SCST Epoch 1: 100%|██████████| 5853/5853 [05:14<00:00, 18.64it/s]\n"
     ]
    },
    {
     "name": "stdout",
     "output_type": "stream",
     "text": [
      "[SCST][Epoch 1] Loss: 823.3102 | Reward: 0.2173 | Acc: 0.2744\n"
     ]
    },
    {
     "name": "stderr",
     "output_type": "stream",
     "text": [
      "SCST Epoch 2: 100%|██████████| 5853/5853 [05:13<00:00, 18.68it/s]\n"
     ]
    },
    {
     "name": "stdout",
     "output_type": "stream",
     "text": [
      "[SCST][Epoch 2] Loss: 313.8985 | Reward: -0.0196 | Acc: 0.0590\n"
     ]
    },
    {
     "name": "stderr",
     "output_type": "stream",
     "text": [
      "SCST Epoch 3: 100%|██████████| 5853/5853 [05:13<00:00, 18.65it/s]\n"
     ]
    },
    {
     "name": "stdout",
     "output_type": "stream",
     "text": [
      "[SCST][Epoch 3] Loss: 260.5779 | Reward: -0.0303 | Acc: 0.0488\n"
     ]
    },
    {
     "name": "stderr",
     "output_type": "stream",
     "text": [
      "SCST Epoch 4: 100%|██████████| 5853/5853 [05:14<00:00, 18.63it/s]\n"
     ]
    },
    {
     "name": "stdout",
     "output_type": "stream",
     "text": [
      "[SCST][Epoch 4] Loss: 253.3416 | Reward: -0.0325 | Acc: 0.0467\n"
     ]
    },
    {
     "name": "stderr",
     "output_type": "stream",
     "text": [
      "SCST Epoch 5: 100%|██████████| 5853/5853 [05:13<00:00, 18.67it/s]\n"
     ]
    },
    {
     "name": "stdout",
     "output_type": "stream",
     "text": [
      "[SCST][Epoch 5] Loss: 273.9247 | Reward: -0.0258 | Acc: 0.0534\n"
     ]
    },
    {
     "name": "stderr",
     "output_type": "stream",
     "text": [
      "SCST Epoch 6: 100%|██████████| 5853/5853 [05:13<00:00, 18.66it/s]\n"
     ]
    },
    {
     "name": "stdout",
     "output_type": "stream",
     "text": [
      "[SCST][Epoch 6] Loss: 198.6841 | Reward: -0.0427 | Acc: 0.0369\n"
     ]
    },
    {
     "name": "stderr",
     "output_type": "stream",
     "text": [
      "SCST Epoch 7: 100%|██████████| 5853/5853 [05:16<00:00, 18.52it/s]"
     ]
    },
    {
     "name": "stdout",
     "output_type": "stream",
     "text": [
      "[SCST][Epoch 7] Loss: 260.8303 | Reward: -0.0282 | Acc: 0.0511\n",
      "Saved SCST policy model to: ../Model/V6\\policy_net_rl_scst_V6.pt\n",
      "Saved SCST value model to: ../Model/V6\\value_net_rl_scst_V6.pt\n",
      "Saved SCST logs to: ../Logs/V6\\scst_V6.json\n",
      "[Comparison to Supervised]\n",
      "Accuracy Before: 0.7262 | After: 0.0511 | Δ: -0.6751 (-92.96%)\n"
     ]
    },
    {
     "name": "stderr",
     "output_type": "stream",
     "text": [
      "\n"
     ]
    }
   ],
   "source": [
    "train_logs = {\"loss\": [], \"reward\": [], \"accuracy\": [], \"entropy\": []}\n",
    "epochs = 7\n",
    "\n",
    "for epoch in range(epochs):\n",
    "    total_loss, total_reward, total_entropy, correct, total = 0, 0, 0, 0, 0\n",
    "\n",
    "    for batch in tqdm(train_loader, desc=f\"SCST Epoch {epoch+1}\"):\n",
    "        input_ids = batch[\"input_ids\"].to(device)\n",
    "        attention_mask = batch[\"attention_mask\"].to(device)\n",
    "        labels = batch[\"labels\"].to(device)\n",
    "\n",
    "\n",
    "        with torch.no_grad():\n",
    "            outputs = bert(input_ids=input_ids, attention_mask=attention_mask)\n",
    "            cls_embeds = outputs.last_hidden_state[:, 0, :]\n",
    "\n",
    "        logits = policy_net(cls_embeds)\n",
    "        log_probs = torch.log_softmax(logits, dim=1)\n",
    "        probs = torch.exp(log_probs)\n",
    "        sampled_action = torch.multinomial(probs, num_samples=1).squeeze()\n",
    "        log_prob = log_probs[range(len(sampled_action)), sampled_action]\n",
    "\n",
    "        reward = compute_reward(logits, labels)\n",
    "        entropy = compute_entropy(logits)\n",
    "\n",
    "        value = value_net(cls_embeds)\n",
    "        advantage = reward - value.detach()\n",
    "\n",
    "        policy_loss = - (log_prob * advantage).mean()\n",
    "        value_loss = F.mse_loss(value, reward)\n",
    "        loss = policy_loss + value_loss\n",
    "\n",
    "        actor_optimizer.zero_grad()\n",
    "        critic_optimizer.zero_grad()\n",
    "        loss.backward()\n",
    "        actor_optimizer.step()\n",
    "        critic_optimizer.step()\n",
    "\n",
    "        total_loss += loss.item()\n",
    "        total_reward += reward.mean().item()\n",
    "        total_entropy += entropy\n",
    "        pred = torch.argmax(logits, dim=1)\n",
    "        correct += (pred == labels).sum().item()\n",
    "        total += labels.size(0)\n",
    "\n",
    "    acc = correct / total\n",
    "    train_logs[\"loss\"].append(total_loss)\n",
    "    train_logs[\"reward\"].append(total_reward / len(train_loader))\n",
    "    train_logs[\"accuracy\"].append(acc)\n",
    "    train_logs[\"entropy\"].append(total_entropy / len(train_loader))\n",
    "\n",
    "    print(f\"[SCST][Epoch {epoch+1}] Loss: {total_loss:.4f} | Reward: {train_logs['reward'][-1]:.4f} | Acc: {acc:.4f}\")\n",
    "\n",
    "# save SCST policy and value\n",
    "torch.save(policy_net.state_dict(), os.path.join(save_model_path, \"policy_net_rl_scst_\" + Version + \".pt\"))\n",
    "torch.save(value_net.state_dict(), os.path.join(save_model_path, \"value_net_rl_scst_\" + Version + \".pt\"))\n",
    "\n",
    "with open(os.path.join(logs_path, \"scst_\" + Version + \".json\"), \"w\") as f:\n",
    "    json.dump(train_logs, f, indent=2)\n",
    "\n",
    "print(\"Saved SCST policy model to:\", os.path.join(save_model_path, \"policy_net_rl_scst_\" + Version + \".pt\"))\n",
    "print(\"Saved SCST value model to:\", os.path.join(save_model_path, \"value_net_rl_scst_\" + Version + \".pt\"))\n",
    "print(\"Saved SCST logs to:\", os.path.join(logs_path, \"scst_\" + Version + \".json\"))\n",
    "\n",
    "# compare final result\n",
    "acc_after = train_logs[\"accuracy\"][-1]\n",
    "acc_change = acc_after - acc_before\n",
    "acc_pct = (acc_change / acc_before) * 100 if acc_before > 0 else 0\n",
    "\n",
    "print(f\"[Comparison to Supervised]\")\n",
    "print(f\"Accuracy Before: {acc_before:.4f} | After: {acc_after:.4f} | Δ: {acc_change:+.4f} ({acc_pct:+.2f}%)\")"
   ]
  },
  {
   "cell_type": "markdown",
   "metadata": {},
   "source": [
    "# 5. PPO Begin"
   ]
  },
  {
   "cell_type": "code",
   "execution_count": 17,
   "metadata": {},
   "outputs": [
    {
     "name": "stderr",
     "output_type": "stream",
     "text": [
      "C:\\Users\\jsj31\\AppData\\Local\\Temp\\ipykernel_14740\\2958709668.py:3: FutureWarning: You are using `torch.load` with `weights_only=False` (the current default value), which uses the default pickle module implicitly. It is possible to construct malicious pickle data which will execute arbitrary code during unpickling (See https://github.com/pytorch/pytorch/blob/main/SECURITY.md#untrusted-models for more details). In a future release, the default value for `weights_only` will be flipped to `True`. This limits the functions that could be executed during unpickling. Arbitrary objects will no longer be allowed to be loaded via this mode unless they are explicitly allowlisted by the user via `torch.serialization.add_safe_globals`. We recommend you start setting `weights_only=True` for any use case where you don't have full control of the loaded file. Please open an issue on GitHub for any issues related to this experimental feature.\n",
      "  policy_net.load_state_dict(torch.load(supervised_model_path))\n"
     ]
    }
   ],
   "source": [
    "# PPO\n",
    "policy_net = PolicyNetwork().to(device)\n",
    "policy_net.load_state_dict(torch.load(supervised_model_path))\n",
    "policy_net.train()\n",
    "\n",
    "value_net = ValueNetwork().to(device)\n",
    "actor_optimizer = torch.optim.Adam(policy_net.parameters(), lr=2e-5)\n",
    "critic_optimizer = torch.optim.Adam(value_net.parameters(), lr=2e-5)"
   ]
  },
  {
   "cell_type": "code",
   "execution_count": null,
   "metadata": {},
   "outputs": [
    {
     "name": "stderr",
     "output_type": "stream",
     "text": [
      "PPO Epoch 1: 100%|██████████| 5853/5853 [05:22<00:00, 18.15it/s]\n"
     ]
    },
    {
     "name": "stdout",
     "output_type": "stream",
     "text": [
      "[PPO][Epoch 1] Loss: 1217.9293 | Reward: 0.7587 | Acc: 0.7137\n"
     ]
    },
    {
     "name": "stderr",
     "output_type": "stream",
     "text": [
      "PPO Epoch 2: 100%|██████████| 5853/5853 [05:21<00:00, 18.19it/s]\n"
     ]
    },
    {
     "name": "stdout",
     "output_type": "stream",
     "text": [
      "[PPO][Epoch 2] Loss: 1255.6847 | Reward: 0.7539 | Acc: 0.6953\n"
     ]
    },
    {
     "name": "stderr",
     "output_type": "stream",
     "text": [
      "PPO Epoch 3: 100%|██████████| 5853/5853 [05:22<00:00, 18.15it/s]\n"
     ]
    },
    {
     "name": "stdout",
     "output_type": "stream",
     "text": [
      "[PPO][Epoch 3] Loss: 1253.6914 | Reward: 0.7490 | Acc: 0.6874\n"
     ]
    },
    {
     "name": "stderr",
     "output_type": "stream",
     "text": [
      "PPO Epoch 4: 100%|██████████| 5853/5853 [05:21<00:00, 18.20it/s]\n"
     ]
    },
    {
     "name": "stdout",
     "output_type": "stream",
     "text": [
      "[PPO][Epoch 4] Loss: 1251.6453 | Reward: 0.7211 | Acc: 0.6606\n"
     ]
    },
    {
     "name": "stderr",
     "output_type": "stream",
     "text": [
      "PPO Epoch 5: 100%|██████████| 5853/5853 [05:21<00:00, 18.21it/s]\n"
     ]
    },
    {
     "name": "stdout",
     "output_type": "stream",
     "text": [
      "[PPO][Epoch 5] Loss: 1226.3196 | Reward: 0.6918 | Acc: 0.6328\n"
     ]
    },
    {
     "name": "stderr",
     "output_type": "stream",
     "text": [
      "PPO Epoch 6: 100%|██████████| 5853/5853 [05:21<00:00, 18.21it/s]\n"
     ]
    },
    {
     "name": "stdout",
     "output_type": "stream",
     "text": [
      "[PPO][Epoch 6] Loss: 1212.2298 | Reward: 0.6752 | Acc: 0.6170\n"
     ]
    },
    {
     "name": "stderr",
     "output_type": "stream",
     "text": [
      "PPO Epoch 7: 100%|██████████| 5853/5853 [05:21<00:00, 18.23it/s]"
     ]
    },
    {
     "name": "stdout",
     "output_type": "stream",
     "text": [
      "[PPO][Epoch 7] Loss: 1150.2770 | Reward: 0.6370 | Acc: 0.5814\n",
      "Saved PPO policy model to: ../Model/V6\\policy_net_rl_ppo_V6.pt\n",
      "Saved PPO value model to: ../Model/V6\\value_net_rl_ppo_V6.pt\n",
      "Saved PPO logs to: ../Logs/V6\\ppo_V6.json\n",
      "[Comparison to Supervised]\n",
      "Accuracy Before: 0.7262 | After: 0.5814 | Δ: -0.1447 (-19.93%)\n"
     ]
    },
    {
     "name": "stderr",
     "output_type": "stream",
     "text": [
      "\n"
     ]
    }
   ],
   "source": [
    "train_logs = {\"loss\": [], \"reward\": [], \"accuracy\": [], \"entropy\": []}\n",
    "epochs = 7\n",
    "\n",
    "for epoch in range(epochs):\n",
    "    total_loss, total_reward, total_entropy, correct, total = 0, 0, 0, 0, 0\n",
    "\n",
    "    for batch in tqdm(train_loader, desc=f\"PPO Epoch {epoch+1}\"):\n",
    "        input_ids = batch[\"input_ids\"].to(device)\n",
    "        attention_mask = batch[\"attention_mask\"].to(device)\n",
    "        labels = batch[\"labels\"].to(device)\n",
    "\n",
    "\n",
    "        with torch.no_grad():\n",
    "            outputs = bert(input_ids=input_ids, attention_mask=attention_mask)\n",
    "            cls_embeds = outputs.last_hidden_state[:, 0, :]\n",
    "\n",
    "        logits = policy_net(cls_embeds)\n",
    "        log_probs = torch.log_softmax(logits, dim=1)\n",
    "        probs = torch.exp(log_probs)\n",
    "        sampled_action = torch.multinomial(probs, num_samples=1).squeeze()\n",
    "        log_prob = log_probs[range(len(sampled_action)), sampled_action]\n",
    "\n",
    "        reward = compute_reward(logits, labels)\n",
    "        entropy = compute_entropy(logits)\n",
    "\n",
    "        value = value_net(cls_embeds)\n",
    "        advantage = reward - value.detach()\n",
    "\n",
    "        old_log_prob = log_prob.detach()\n",
    "        new_logits = policy_net(cls_embeds)\n",
    "        new_log_probs = torch.log_softmax(new_logits, dim=1)\n",
    "        new_log_prob = new_log_probs[range(len(sampled_action)), sampled_action]\n",
    "\n",
    "        ratio = torch.exp(new_log_prob - old_log_prob)\n",
    "        surr1 = ratio * advantage\n",
    "        surr2 = torch.clamp(ratio, 0.8, 1.2) * advantage\n",
    "\n",
    "        policy_loss = -torch.min(surr1, surr2).mean()\n",
    "        value_loss = F.mse_loss(value, reward)\n",
    "        loss = policy_loss + value_loss\n",
    "\n",
    "        actor_optimizer.zero_grad()\n",
    "        critic_optimizer.zero_grad()\n",
    "        loss.backward()\n",
    "        actor_optimizer.step()\n",
    "        critic_optimizer.step()\n",
    "\n",
    "        total_loss += loss.item()\n",
    "        total_reward += reward.mean().item()\n",
    "        total_entropy += entropy\n",
    "        pred = torch.argmax(logits, dim=1)\n",
    "        correct += (pred == labels).sum().item()\n",
    "        total += labels.size(0)\n",
    "\n",
    "    acc = correct / total\n",
    "    train_logs[\"loss\"].append(total_loss)\n",
    "    train_logs[\"reward\"].append(total_reward / len(train_loader))\n",
    "    train_logs[\"accuracy\"].append(acc)\n",
    "    train_logs[\"entropy\"].append(total_entropy / len(train_loader))\n",
    "\n",
    "    print(f\"[PPO][Epoch {epoch+1}] Loss: {total_loss:.4f} | Reward: {train_logs['reward'][-1]:.4f} | Acc: {acc:.4f}\")\n",
    "\n",
    "# Save PPO policy and value\n",
    "torch.save(policy_net.state_dict(), os.path.join(save_model_path, \"policy_net_rl_ppo_\" + Version + \".pt\"))\n",
    "torch.save(value_net.state_dict(), os.path.join(save_model_path, \"value_net_rl_ppo_\" + Version + \".pt\"))\n",
    "\n",
    "with open(os.path.join(logs_path, \"ppo_\" + Version + \".json\"), \"w\") as f:\n",
    "    json.dump(train_logs, f, indent=2)\n",
    "\n",
    "print(\"Saved PPO policy model to:\", os.path.join(save_model_path, \"policy_net_rl_ppo_\" + Version + \".pt\"))\n",
    "print(\"Saved PPO value model to:\", os.path.join(save_model_path, \"value_net_rl_ppo_\" + Version + \".pt\"))\n",
    "print(\"Saved PPO logs to:\", os.path.join(logs_path, \"ppo_\" + Version + \".json\"))\n",
    "\n",
    "# compare final result\n",
    "acc_after = train_logs[\"accuracy\"][-1]\n",
    "acc_change = acc_after - acc_before\n",
    "acc_pct = (acc_change / acc_before) * 100 if acc_before > 0 else 0\n",
    "\n",
    "print(f\"[Comparison to Supervised]\")\n",
    "print(f\"Accuracy Before: {acc_before:.4f} | After: {acc_after:.4f} | Δ: {acc_change:+.4f} ({acc_pct:+.2f}%)\")"
   ]
  }
 ],
 "metadata": {
  "kernelspec": {
   "display_name": "Python 3",
   "language": "python",
   "name": "python3"
  },
  "language_info": {
   "codemirror_mode": {
    "name": "ipython",
    "version": 3
   },
   "file_extension": ".py",
   "mimetype": "text/x-python",
   "name": "python",
   "nbconvert_exporter": "python",
   "pygments_lexer": "ipython3",
   "version": "3.11.5"
  }
 },
 "nbformat": 4,
 "nbformat_minor": 2
}
